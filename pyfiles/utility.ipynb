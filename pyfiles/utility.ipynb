{
 "cells": [
  {
   "cell_type": "code",
   "execution_count": 71,
   "metadata": {
    "collapsed": true
   },
   "outputs": [],
   "source": [
    "import numpy as np\n",
    "\n",
    "def p_string(p, digit = 3, limit = None):\n",
    "    '''\n",
    "    e.g.\n",
    "    null = np.random.randn(1000)\n",
    "    x = 5\n",
    "    pval_bootstrap(x, null)\n",
    "    '''\n",
    "    \n",
    "    form = '{:.'+str(digit)+'f}' # format\n",
    "    \n",
    "    if (limit is not None) and (p == 0):\n",
    "        p_str = 'p < ' + str(limit)\n",
    "    else:\n",
    "        p_str = 'p = ' + form.format(p)\n",
    "            \n",
    "    return p_str\n",
    "\n",
    "def pval_bootstrap(x, x_null, tail=1, out_string = True):\n",
    "    it = len(x_null)\n",
    "    pctile =  (sum(x_null < x) + sum( x_null == x ) * 0.5) / it;\n",
    "  \n",
    "    p = min(pctile, 1 - pctile);\n",
    "    p = p * tail\n",
    "    \n",
    "    if (out_string is True):\n",
    "        p = p_string(p, limit = 1/it)\n",
    "    return p"
   ]
  }
 ],
 "metadata": {
  "kernelspec": {
   "display_name": "Python 3",
   "language": "python",
   "name": "python3"
  },
  "language_info": {
   "codemirror_mode": {
    "name": "ipython",
    "version": 3
   },
   "file_extension": ".py",
   "mimetype": "text/x-python",
   "name": "python",
   "nbconvert_exporter": "python",
   "pygments_lexer": "ipython3",
   "version": "3.5.3"
  }
 },
 "nbformat": 4,
 "nbformat_minor": 2
}
