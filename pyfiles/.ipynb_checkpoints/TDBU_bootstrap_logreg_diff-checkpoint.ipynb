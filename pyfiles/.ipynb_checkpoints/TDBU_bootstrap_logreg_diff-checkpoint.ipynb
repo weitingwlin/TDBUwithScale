{
 "cells": [
  {
   "cell_type": "code",
   "execution_count": 1,
   "metadata": {},
   "outputs": [
    {
     "data": {
      "text/plain": [
       "array([[ 0,  1,  2,  3,  4],\n",
       "       [ 5,  6,  7,  8,  9],\n",
       "       [10, 11, 12, 13, 14],\n",
       "       [15, 16, 17, 18, 19]])"
      ]
     },
     "execution_count": 1,
     "metadata": {},
     "output_type": "execute_result"
    }
   ],
   "source": [
    "import numpy as np\n",
    "A = np.arange(20).reshape(4,5)\n",
    "A\n",
    "#np.shape(A)"
   ]
  },
  {
   "cell_type": "code",
   "execution_count": 2,
   "metadata": {},
   "outputs": [
    {
     "data": {
      "text/plain": [
       "array([ 5, 10, 10, 10])"
      ]
     },
     "execution_count": 2,
     "metadata": {},
     "output_type": "execute_result"
    }
   ],
   "source": [
    "np.random.choice(A[:,0], np.shape(A)[0], replace = True)"
   ]
  },
  {
   "cell_type": "code",
   "execution_count": 3,
   "metadata": {
    "collapsed": true
   },
   "outputs": [],
   "source": [
    "def mat_shuffle(data, replacement = True):\n",
    "    '''\n",
    "    shuffle each columns in matrix \n",
    "    '''\n",
    "    sh_data = np.zeros(np.shape(data))\n",
    "    (n,p) = np.shape(data)\n",
    "    for i in range(p):\n",
    "        # per column\n",
    "        sh_data[:,i] = np.random.choice(data[:,i], n, replace = replacement)\n",
    "    return sh_data"
   ]
  },
  {
   "cell_type": "code",
   "execution_count": 53,
   "metadata": {},
   "outputs": [
    {
     "data": {
      "text/plain": [
       "array([[  0.,   6.,   7.,  18.,  14.],\n",
       "       [ 15.,  11.,  17.,  18.,  19.],\n",
       "       [ 10.,  16.,   2.,   3.,  14.],\n",
       "       [  5.,  11.,  12.,   8.,  14.]])"
      ]
     },
     "execution_count": 53,
     "metadata": {},
     "output_type": "execute_result"
    }
   ],
   "source": [
    "mat_shuffle(A)"
   ]
  },
  {
   "cell_type": "code",
   "execution_count": 6,
   "metadata": {
    "collapsed": true
   },
   "outputs": [],
   "source": [
    "mocA = np.arange(81 * 3).reshape((81,3))\n",
    "mocL = mocA * 0.1 \n",
    "mocDay = [1,2,3]"
   ]
  },
  {
   "cell_type": "code",
   "execution_count": 7,
   "metadata": {
    "collapsed": true
   },
   "outputs": [],
   "source": [
    "def TDBU_scale_TS(data_A, data_L, Day):\n",
    "    '''\n",
    "    This is a function to create time series (TS) for each set of each scales \\\n",
    "    from (real or simulated) TS of aphids and ladybugs\n",
    "    '''\n",
    "    nd = len(Day)\n",
    "    L3 = np.zeros((27,nd))\n",
    "    A3 = np.zeros((27,nd))\n",
    "    L9 = np.zeros((9,nd))\n",
    "    A9 = np.zeros((9,nd))\n",
    "    L27 = np.zeros((3,nd))\n",
    "    A27 = np.zeros((3,nd))\n",
    "    out = {}\n",
    "    # 3-plant scale\n",
    "    for i in range(27):\n",
    "        ind = np.arange(i*3,(i+1)*3)\n",
    "        L3[i,:] = np.sum(data_L[ind,:], axis = 0, keepdims = True)\n",
    "        A3[i,:] = np.sum(data_A[ind,:], axis = 0, keepdims = True)\n",
    "    # 9-plant scale\n",
    "    for i in range(9):\n",
    "        ind = np.arange(i*9,(i+1)*9)\n",
    "        L9[i,:] = np.sum(data_L[ind,:], axis = 0, keepdims = True)\n",
    "        A9[i,:] = np.sum(data_A[ind,:], axis = 0, keepdims = True)\n",
    "    # 27-plant scale\n",
    "    for i in range(3):\n",
    "        ind = np.arange(i*27,(i+1)*27)\n",
    "        L27[i,:] = np.sum(data_L[ind,:], axis = 0, keepdims = True)\n",
    "        A27[i,:] = np.sum(data_A[ind,:], axis = 0, keepdims = True)\n",
    "        \n",
    "    # packing results into a dictionary \n",
    "    out[\"L3\"] = L3\n",
    "    out[\"A3\"] = A3\n",
    "    out[\"L9\"] = L9\n",
    "    out[\"A9\"] = A9\n",
    "    out[\"L27\"] = L27\n",
    "    out[\"A27\"] = A27\n",
    "    return out"
   ]
  },
  {
   "cell_type": "code",
   "execution_count": 8,
   "metadata": {},
   "outputs": [
    {
     "data": {
      "text/plain": [
       "array([[ 105.3,  108. ,  110.7],\n",
       "       [ 324. ,  326.7,  329.4],\n",
       "       [ 542.7,  545.4,  548.1]])"
      ]
     },
     "execution_count": 8,
     "metadata": {},
     "output_type": "execute_result"
    }
   ],
   "source": [
    "out = TDBU_scale_TS(mocA, mocL, mocDay)\n",
    "out[\"L27\"]"
   ]
  },
  {
   "cell_type": "code",
   "execution_count": 9,
   "metadata": {},
   "outputs": [],
   "source": [
    "from scipy import stats"
   ]
  },
  {
   "cell_type": "code",
   "execution_count": 37,
   "metadata": {
    "collapsed": true
   },
   "outputs": [],
   "source": [
    "def TDBU_scale_logreg(dataA, dataL, Day):\n",
    "    nd = len(Day)\n",
    "    out = TDBU_scale_TS(dataA, dataL, Day)\n",
    "    \n",
    "    # umpack TS \n",
    "    A3 = out[\"A3\"]\n",
    "    L3 = out[\"L3\"]\n",
    "    A9 = out[\"A9\"]\n",
    "    L9 = out[\"L9\"]\n",
    "    A27 = out[\"A27\"]\n",
    "    L27 = out[\"L27\"]\n",
    "    \n",
    "    # data sheets\n",
    "    MA_L_1 = np.zeros((81, nd))\n",
    "    DF_L_1 = np.zeros((81, nd))\n",
    "    MA_A_1 = np.zeros((81, nd))\n",
    "    DF_A_1 = np.zeros((81, nd))\n",
    "    MA_L_3 = np.zeros((27, nd))\n",
    "    DF_L_3 = np.zeros((27, nd))\n",
    "    MA_A_3 = np.zeros((27, nd))\n",
    "    DF_A_3 = np.zeros((27, nd))\n",
    "    MA_L_9 = np.zeros((9, nd))\n",
    "    DF_L_9 = np.zeros((9, nd))\n",
    "    MA_A_9 = np.zeros((9, nd))\n",
    "    DF_A_9 = np.zeros((9, nd))\n",
    "    MA_L_27 = np.zeros((3, nd))\n",
    "    DF_L_27 = np.zeros((3, nd))\n",
    "    MA_A_27 = np.zeros((3, nd))\n",
    "    DF_A_27 = np.zeros((3, nd))\n",
    "    BU = np.zeros((1,4))\n",
    "    TD = np.zeros((1,4))\n",
    "    \n",
    "    # initialize t:\n",
    "    t = 0\n",
    "    for d in range(0, nd-1):\n",
    "        if (Day[d+1] - Day[d]) == 1: \n",
    "            # two consecutive days\n",
    "\n",
    "            # 1-day \n",
    "            MA_L_1[:,t] = np.mean(dataL[:, [d, d+1]], axis =1);\n",
    "            DF_L_1[:,t] = np.diff(np.log(dataL[:,[d, d+1]] + 1), axis =1).reshape(81);\n",
    "            MA_A_1[:,t] = np.mean(dataA[:, [d, d+1]], axis =1);\n",
    "            DF_A_1[:,t] = np.diff(np.log(dataA[:,[d, d+1]] + 1), axis =1).reshape(81);\n",
    "            \n",
    "            # 3-day \n",
    "            MA_L_3[:,t] = np.mean(L3[:, [d, d+1]], axis =1);\n",
    "            DF_L_3[:,t] = np.diff(np.log(L3[:,[d, d+1]] + 1), axis =1).reshape(27);\n",
    "            MA_A_3[:,t] = np.mean(A3[:, [d, d+1]], axis =1);\n",
    "            DF_A_3[:,t] = np.diff(np.log(A3[:,[d, d+1]] + 1), axis =1).reshape(27);\n",
    "            \n",
    "            # 9-day \n",
    "            MA_L_9[:,t] = np.mean(L9[:, [d, d+1]], axis =1);\n",
    "            DF_L_9[:,t] = np.diff(np.log(L9[:,[d, d+1]] + 1), axis =1).reshape(9);\n",
    "            MA_A_9[:,t] = np.mean(A9[:, [d, d+1]], axis =1);\n",
    "            DF_A_9[:,t] = np.diff(np.log(A9[:,[d, d+1]] + 1), axis =1).reshape(9);\n",
    "            \n",
    "            # 27-day \n",
    "            MA_L_27[:,t] = np.mean(L27[:, [d, d+1]], axis =1);\n",
    "            DF_L_27[:,t] = np.diff(np.log(L27[:,[d, d+1]] + 1), axis =1).reshape(3);\n",
    "            MA_A_27[:,t] = np.mean(A27[:, [d, d+1]], axis =1);\n",
    "            DF_A_27[:,t] = np.diff(np.log(A27[:,[d, d+1]] + 1), axis =1).reshape(3);\n",
    "\n",
    "            t = t+1;\n",
    "    \n",
    "    # remove double zeros: keep data where at least one species present\n",
    "    ind1 = (MA_L_1 != 0) *1 + (MA_A_1 != 0)*1 > 0\n",
    "    ind3 = (MA_L_3 != 0) *1 + (MA_A_3 != 0)*1 > 0\n",
    "    ind9 = (MA_L_9 != 0) *1 + (MA_A_9 != 0)*1 > 0\n",
    "    ind27 = (MA_L_27 != 0) *1 + (MA_A_27 != 0)*1 > 0\n",
    "    \n",
    "    # calculating R_TD and R_BU\n",
    "    _, _, r_value, _, _ = stats.linregress(MA_A_1[ind1], DF_L_1[ind1])\n",
    "    BU[0,0] = r_value\n",
    "    _, _, r_value, _, _ = stats.linregress(MA_L_1[ind1], DF_A_1[ind1])\n",
    "    TD[0,0] = r_value\n",
    "    _, _, r_value, _, _ = stats.linregress(MA_A_3[ind3], DF_L_3[ind3])\n",
    "    BU[0,1] = r_value\n",
    "    _, _, r_value, _, _ = stats.linregress(MA_L_3[ind3], DF_A_3[ind3])\n",
    "    TD[0,1] = r_value\n",
    "    _, _, r_value, _, _ = stats.linregress(MA_A_9[ind9], DF_L_9[ind9])\n",
    "    BU[0,2] = r_value\n",
    "    _, _, r_value, _, _ = stats.linregress(MA_L_9[ind9], DF_A_9[ind9])\n",
    "    TD[0,2] = r_value\n",
    "    _, _, r_value, _, _ = stats.linregress(MA_A_27[ind27], DF_L_27[ind27])\n",
    "    BU[0,3] = r_value\n",
    "    _, _, r_value, _, _ = stats.linregress(MA_L_27[ind27], DF_A_27[ind27])\n",
    "    TD[0,3] = r_value\n",
    "    \n",
    "    \n",
    "    return TD, BU"
   ]
  },
  {
   "cell_type": "code",
   "execution_count": 38,
   "metadata": {},
   "outputs": [
    {
     "data": {
      "text/plain": [
       "array([[-0.41334533, -0.53995557, -0.73287711, -0.93265949]])"
      ]
     },
     "execution_count": 38,
     "metadata": {},
     "output_type": "execute_result"
    }
   ],
   "source": [
    "out1, out2= TDBU_scale_logreg(mocA, mocL, mocDay)\n",
    "out1\n"
   ]
  },
  {
   "cell_type": "code",
   "execution_count": 90,
   "metadata": {},
   "outputs": [],
   "source": [
    "def TDBU_bootstrap_logreg_diff(dataA, dataL, Day, itt = 100, replacement = True):\n",
    "    '''\n",
    "    A function similar to the Matlab one:\n",
    "    https://github.com/weitingwlin/TDBUwithScale/blob/master/DataAnalysis/TDBU_bootstrap_logreg_diff.m\n",
    "    '''\n",
    "    sh_TD = np.zeros((itt, 4))\n",
    "    sh_BU = np.zeros((itt, 4))\n",
    "    \n",
    "    for i in range(itt):\n",
    "        sh_A = mat_shuffle(dataA, replacement = replacement )\n",
    "        sh_L = mat_shuffle(dataA, replacement = replacement )\n",
    "        outTD, outBU = TDBU_scale_logreg(sh_A, sh_L, Day)\n",
    "        sh_TD[i,:] = outTD\n",
    "        sh_BU[i,:] = outTD\n",
    "        \n",
    "    # get ci and median\n",
    "    ciTD = np.percentile(sh_TD, [2.5, 50, 97.5], axis =0)\n",
    "    ciBU = np.percentile(sh_BU, [2.5, 50, 97.5], axis =0)\n",
    "    \n",
    "    # get diff\n",
    "    ci_diffTD = np.zeros((3,6))\n",
    "    seq = np.reshape([0,1,0,2,0,3, 1,2, 1,3,2,3], (6,2))\n",
    "    for s in range(6):\n",
    "        diffTDsh = sh_TD[:, seq[s, 1]] - sh_TD[:, seq[s, 0]]  \n",
    "        ci_diffTD[:,s] = np.percentile( diffTDsh , [2.5, 50, 97.5], axis =0).reshape(3)\n",
    "    return ci_diffTD"
   ]
  },
  {
   "cell_type": "code",
   "execution_count": 92,
   "metadata": {},
   "outputs": [
    {
     "data": {
      "text/plain": [
       "(3, 6)"
      ]
     },
     "execution_count": 92,
     "metadata": {},
     "output_type": "execute_result"
    }
   ],
   "source": [
    "out = TDBU_bootstrap_logreg_diff(mocA, mocL, mocDay, itt = 50)\n",
    "out"
   ]
  },
  {
   "cell_type": "code",
   "execution_count": 64,
   "metadata": {},
   "outputs": [],
   "source": [
    "A = np.reshape([0,1,0,2,0,3, 1,2, 1,3,2,3], (6,2))"
   ]
  },
  {
   "cell_type": "code",
   "execution_count": 73,
   "metadata": {},
   "outputs": [
    {
     "data": {
      "text/plain": [
       "0.09832328933120453"
      ]
     },
     "execution_count": 73,
     "metadata": {},
     "output_type": "execute_result"
    }
   ],
   "source": [
    "out[A[1,1],0]\n"
   ]
  },
  {
   "cell_type": "code",
   "execution_count": null,
   "metadata": {
    "collapsed": true
   },
   "outputs": [],
   "source": []
  }
 ],
 "metadata": {
  "kernelspec": {
   "display_name": "Python 3",
   "language": "python",
   "name": "python3"
  },
  "language_info": {
   "codemirror_mode": {
    "name": "ipython",
    "version": 3
   },
   "file_extension": ".py",
   "mimetype": "text/x-python",
   "name": "python",
   "nbconvert_exporter": "python",
   "pygments_lexer": "ipython3",
   "version": "3.5.3"
  }
 },
 "nbformat": 4,
 "nbformat_minor": 2
}
